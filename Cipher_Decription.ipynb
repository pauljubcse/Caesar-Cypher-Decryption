{
  "nbformat": 4,
  "nbformat_minor": 0,
  "metadata": {
    "colab": {
      "provenance": []
    },
    "kernelspec": {
      "name": "python3",
      "display_name": "Python 3"
    },
    "language_info": {
      "name": "python"
    }
  },
  "cells": [
    {
      "cell_type": "code",
      "execution_count": null,
      "metadata": {
        "id": "7X_ldhCWwg1a"
      },
      "outputs": [],
      "source": [
        "import numpy as np\n",
        "import matplotlib.pyplot as plt\n",
        "\n",
        "import string\n",
        "import random\n",
        "import re\n",
        "import requests\n",
        "import os\n",
        "import textwrap"
      ]
    },
    {
      "cell_type": "code",
      "source": [
        "#Caesaer Cipher [Substitution]\n",
        "\n",
        "letters1 = list(string.ascii_lowercase)\n",
        "letters2 = list(string.ascii_lowercase)\n",
        "\n",
        "ActualMapping= {}\n",
        "\n",
        "random.shuffle(letters2)\n",
        "\n",
        "# populate map\n",
        "for k, v in zip(letters1, letters2):\n",
        "    ActualMapping[k] = v"
      ],
      "metadata": {
        "id": "zS4aWI_7xrVz"
      },
      "execution_count": null,
      "outputs": []
    },
    {
      "cell_type": "code",
      "source": [
        "ActualMapping"
      ],
      "metadata": {
        "id": "8U9TZnswyPdL"
      },
      "execution_count": null,
      "outputs": []
    },
    {
      "cell_type": "markdown",
      "source": [
        "**Markov Based Bi Gram Language Model**"
      ],
      "metadata": {
        "id": "iqO_Ci1MyaS5"
      }
    },
    {
      "cell_type": "code",
      "source": [
        "#Markov Matrix\n",
        "M = np.ones((26, 26))\n",
        "\n",
        "#Initial state distribution\n",
        "pi = np.zeros(26)\n",
        "\n",
        "#Function to update the Markov matrix\n",
        "def updateTransition(ch1, ch2):\n",
        "    i = ord(ch1) - 97\n",
        "    j = ord(ch2) - 97\n",
        "    M[i,j] += 1\n",
        "\n",
        "#Function to update the initial state distribution\n",
        "def updatePi(ch):\n",
        "    i = ord(ch) - 97\n",
        "    pi[i] += 1\n",
        "\n",
        "# get the log-probability of a word / token\n",
        "def getWordProb(word):\n",
        "    # print(\"word:\", word)\n",
        "    i = ord(word[0]) - 97\n",
        "    logp = np.log(pi[i])\n",
        "\n",
        "    for ch in word[1:]:\n",
        "        j = ord(ch) - 97\n",
        "        logp += np.log(M[i, j]) # update prob\n",
        "        i = j # update j\n",
        "\n",
        "    return logp\n",
        "\n",
        "# get the probability of a sequence of words\n",
        "def getSequenceProb(words):\n",
        "    # if input is a string, split into an array of tokens\n",
        "    if type(words) == str:\n",
        "        words = words.split()\n",
        "\n",
        "    logp = 0\n",
        "    for word in words:\n",
        "        logp += getWordProb(word)\n",
        "    return logp"
      ],
      "metadata": {
        "id": "GNjZvdisyWFy"
      },
      "execution_count": null,
      "outputs": []
    },
    {
      "cell_type": "code",
      "source": [
        "text=\"Genetic Algorithms(GAs) are adaptive heuristic search algorithms that belong to the larger part of evolutionary algorithms. Genetic algorithms are based on the ideas of natural selection and genetics. These are intelligent exploitation of random search provided with historical data to direct the search into the region of better performance in solution space. They are commonly used to generate high-quality solutions for optimization problems and search problems.Genetic algorithms simulate the process of natural selection which means those species who can adapt to changes in their environment are able to survive and reproduce and go to next generation. In simple words, they simulate “survival of the fittest” among individual of consecutive generation for solving a problem. Each generation consist of a population of individuals and each individual represents a point in search space and possible solution. Each individual is represented as a string of character/integer/float/bits. This string is analogous to the Chromosome. A Fitness Score is given to each individual which shows the ability of an individual to “compete”. The individual having optimal fitness score (or near optimal) are sought. The GAs maintains the population of n individuals (chromosome/solutions) along with their fitness scores.The individuals having better fitness scores are given more chance to reproduce than others. The individuals with better fitness scores are selected who mate and produce better offspring by combining chromosomes of parents. The population size is static so the room has to be created for new arrivals. So, some individuals die and get replaced by new arrivals eventually creating new generation when all the mating opportunity of the old population is exhausted. It is hoped that over successive generations better solutions will arrive while least fit die. Each new generation has on average more “better genes” than the individual (solution) of previous generations. Thus each new generations have better “partial solutions” than previous generations. Once the offspring produced having no significant difference from offspring produced by previous populations, the population is converged. The algorithm is said to be converged to a set of solutions for the problem.\""
      ],
      "metadata": {
        "id": "VwuZDgaQ3oX_"
      },
      "execution_count": 42,
      "outputs": []
    },
    {
      "cell_type": "code",
      "source": [
        "regex = re.compile('[^a-zA-Z]')"
      ],
      "metadata": {
        "id": "BPscWHCN3z7P"
      },
      "execution_count": 43,
      "outputs": []
    },
    {
      "cell_type": "code",
      "source": [
        "text=text.split(\".\")"
      ],
      "metadata": {
        "id": "JSoQHPbX37vf"
      },
      "execution_count": 44,
      "outputs": []
    },
    {
      "cell_type": "code",
      "source": [
        "print(text[0].lower().split())"
      ],
      "metadata": {
        "colab": {
          "base_uri": "https://localhost:8080/"
        },
        "id": "7-XEbf104By_",
        "outputId": "3c24597c-5c34-4f05-9e70-9dcb3d720576"
      },
      "execution_count": 45,
      "outputs": [
        {
          "output_type": "stream",
          "name": "stdout",
          "text": [
            "['genetic', 'algorithms(gas)', 'are', 'adaptive', 'heuristic', 'search', 'algorithms', 'that', 'belong', 'to', 'the', 'larger', 'part', 'of', 'evolutionary', 'algorithms']\n"
          ]
        }
      ]
    },
    {
      "cell_type": "code",
      "source": [
        "for line in text:\n",
        "    line = line.rstrip()\n",
        "    if line:\n",
        "        line = regex.sub(' ', line) # replace all non-alpha characters with space\n",
        "\n",
        "        tokens = line.lower().split()\n",
        "        for token in tokens:   #Token=Letter\n",
        "            ch0 = token[0]\n",
        "            updatePi(ch0)\n",
        "\n",
        "            # other letters\n",
        "            for ch1 in token[1:]:\n",
        "                updateTransition(ch0, ch1)\n",
        "                ch0 = ch1\n",
        "\n",
        "# normalize the probabilities\n",
        "pi /= pi.sum()\n",
        "M /= M.sum(axis=1, keepdims=True)"
      ],
      "metadata": {
        "id": "7rszOND04CtD"
      },
      "execution_count": 46,
      "outputs": []
    },
    {
      "cell_type": "code",
      "source": [
        "print(pi)"
      ],
      "metadata": {
        "colab": {
          "base_uri": "https://localhost:8080/"
        },
        "id": "NInyiqrKVZ6j",
        "outputId": "e87b7ecc-7242-431e-b497-959237cbd884"
      },
      "execution_count": 47,
      "outputs": [
        {
          "output_type": "stream",
          "name": "stdout",
          "text": [
            "[0.12116858 0.04317713 0.04610595 0.01440466 0.03171972 0.03743\n",
            " 0.06052903 0.02879089 0.08359122 0.         0.         0.00576555\n",
            " 0.0172598  0.03166446 0.08642794 0.06914972 0.00289198 0.02308061\n",
            " 0.12395004 0.13831786 0.00289198 0.         0.03168288 0.\n",
            " 0.         0.        ]\n"
          ]
        }
      ]
    },
    {
      "cell_type": "code",
      "source": [
        "for i in range(len(pi)):\n",
        "    if pi[i]==0:\n",
        "        pi[i]=0.000001"
      ],
      "metadata": {
        "id": "B-AN6Y1RWhup"
      },
      "execution_count": 49,
      "outputs": []
    },
    {
      "cell_type": "code",
      "source": [
        "print(M)"
      ],
      "metadata": {
        "colab": {
          "base_uri": "https://localhost:8080/"
        },
        "id": "eld__N_OVfti",
        "outputId": "d302d6cf-1775-4aaf-b7c1-078966da19f3"
      },
      "execution_count": 48,
      "outputs": [
        {
          "output_type": "stream",
          "name": "stdout",
          "text": [
            "[[7.26005518e-05 1.42297081e-02 7.09307391e-02 1.43023087e-02\n",
            "  7.26005518e-05 7.26005518e-05 7.11485407e-03 7.26005518e-05\n",
            "  2.11993611e-02 7.26005518e-05 7.26005518e-05 2.26513722e-01\n",
            "  7.18745462e-03 1.41788878e-01 7.26005518e-05 1.43023087e-02\n",
            "  7.26005518e-05 1.63060839e-01 5.67010309e-02 2.19398867e-01\n",
            "  7.11485407e-03 3.52838682e-02 7.26005518e-05 7.26005518e-05\n",
            "  7.26005518e-05 7.26005518e-05]\n",
            " [4.40476190e-02 1.19047619e-03 1.19047619e-03 1.19047619e-03\n",
            "  4.20238095e-01 1.19047619e-03 1.19047619e-03 1.19047619e-03\n",
            "  1.27380952e-01 1.19047619e-03 1.19047619e-03 2.57142857e-01\n",
            "  1.19047619e-03 1.19047619e-03 1.19047619e-03 1.19047619e-03\n",
            "  1.19047619e-03 1.19047619e-03 1.19047619e-03 1.19047619e-03\n",
            "  1.19047619e-03 1.19047619e-03 1.19047619e-03 1.19047619e-03\n",
            "  1.26190476e-01 1.19047619e-03]\n",
            " [5.09090909e-02 3.03030303e-04 1.69696970e-02 3.03030303e-04\n",
            "  2.35151515e-01 3.03030303e-04 3.03030303e-04 3.20606061e-01\n",
            "  1.72727273e-02 3.03030303e-04 3.03030303e-04 3.03030303e-04\n",
            "  3.03030303e-04 3.03030303e-04 2.01212121e-01 3.03030303e-04\n",
            "  3.03030303e-04 3.36363636e-02 1.72727273e-02 8.48484848e-02\n",
            "  1.72727273e-02 3.03030303e-04 3.03030303e-04 3.03030303e-04\n",
            "  3.03030303e-04 3.03030303e-04]\n",
            " [7.54395916e-02 5.67214974e-04 5.67214974e-04 5.67214974e-04\n",
            "  5.04821327e-02 5.67214974e-04 5.67214974e-04 5.67214974e-04\n",
            "  3.93647192e-01 5.67214974e-04 5.67214974e-04 5.67214974e-04\n",
            "  5.67214974e-04 5.67214974e-04 2.55246739e-02 5.67214974e-04\n",
            "  5.67214974e-04 5.67214974e-04 2.55246739e-02 5.67214974e-04\n",
            "  4.18037436e-01 5.67214974e-04 5.67214974e-04 5.67214974e-04\n",
            "  5.67214974e-04 5.67214974e-04]\n",
            " [1.09693878e-01 6.54107797e-05 3.88540031e-02 8.36603872e-02\n",
            "  6.54107797e-05 6.54107797e-05 1.30167452e-02 6.54107797e-05\n",
            "  1.29513344e-02 6.54107797e-05 6.54107797e-05 3.23783359e-02\n",
            "  2.59026688e-02 1.67582418e-01 6.54107797e-05 3.23129252e-02\n",
            "  6.54107797e-05 1.73731031e-01 1.15907902e-01 9.01360544e-02\n",
            "  6.54107797e-03 3.21821036e-02 3.21166928e-02 1.94270016e-02\n",
            "  1.30167452e-02 6.54107797e-05]\n",
            " [1.34408602e-03 1.34408602e-03 1.34408602e-03 1.34408602e-03\n",
            "  4.30107527e-02 1.68010753e-01 1.34408602e-03 1.34408602e-03\n",
            "  3.36021505e-01 1.34408602e-03 1.34408602e-03 4.43548387e-02\n",
            "  1.34408602e-03 1.34408602e-03 2.13709677e-01 1.34408602e-03\n",
            "  1.34408602e-03 4.30107527e-02 1.26344086e-01 1.34408602e-03\n",
            "  1.34408602e-03 1.34408602e-03 1.34408602e-03 1.34408602e-03\n",
            "  1.34408602e-03 1.34408602e-03]\n",
            " [5.10416667e-02 5.20833333e-04 5.20833333e-04 5.20833333e-04\n",
            "  5.81770833e-01 5.20833333e-04 5.20833333e-04 5.10416667e-02\n",
            "  7.60416667e-02 5.20833333e-04 5.20833333e-04 5.20833333e-04\n",
            "  5.20833333e-04 2.55208333e-02 2.04166667e-01 5.20833333e-04\n",
            "  5.20833333e-04 5.20833333e-04 5.20833333e-04 5.20833333e-04\n",
            "  5.20833333e-04 5.20833333e-04 5.20833333e-04 5.20833333e-04\n",
            "  5.20833333e-04 5.20833333e-04]\n",
            " [2.21698113e-01 2.77469478e-04 2.77469478e-04 2.77469478e-04\n",
            "  4.44783574e-01 2.77469478e-04 2.77469478e-04 2.77469478e-04\n",
            "  8.96226415e-02 2.77469478e-04 2.77469478e-04 2.77469478e-04\n",
            "  8.99001110e-02 2.77469478e-04 7.43618202e-02 2.77469478e-04\n",
            "  2.77469478e-04 4.46725860e-02 2.77469478e-04 1.49833518e-02\n",
            "  1.49833518e-02 2.77469478e-04 2.77469478e-04 2.77469478e-04\n",
            "  2.77469478e-04 2.77469478e-04]\n",
            " [5.80292378e-03 5.85872112e-03 5.79176431e-02 8.65974780e-02\n",
            "  1.73529740e-02 1.15500502e-02 1.74087713e-02 5.57973440e-05\n",
            "  5.57973440e-05 5.57973440e-05 5.57973440e-05 1.72971767e-02\n",
            "  3.47617453e-02 2.02042183e-01 1.84689209e-01 5.57973440e-05\n",
            "  5.57973440e-05 2.32116951e-02 6.93560986e-02 1.27050552e-01\n",
            "  5.57973440e-05 1.26938958e-01 5.57973440e-05 5.57973440e-05\n",
            "  5.57973440e-05 1.16058476e-02]\n",
            " [3.84615385e-02 3.84615385e-02 3.84615385e-02 3.84615385e-02\n",
            "  3.84615385e-02 3.84615385e-02 3.84615385e-02 3.84615385e-02\n",
            "  3.84615385e-02 3.84615385e-02 3.84615385e-02 3.84615385e-02\n",
            "  3.84615385e-02 3.84615385e-02 3.84615385e-02 3.84615385e-02\n",
            "  3.84615385e-02 3.84615385e-02 3.84615385e-02 3.84615385e-02\n",
            "  3.84615385e-02 3.84615385e-02 3.84615385e-02 3.84615385e-02\n",
            "  3.84615385e-02 3.84615385e-02]\n",
            " [3.84615385e-02 3.84615385e-02 3.84615385e-02 3.84615385e-02\n",
            "  3.84615385e-02 3.84615385e-02 3.84615385e-02 3.84615385e-02\n",
            "  3.84615385e-02 3.84615385e-02 3.84615385e-02 3.84615385e-02\n",
            "  3.84615385e-02 3.84615385e-02 3.84615385e-02 3.84615385e-02\n",
            "  3.84615385e-02 3.84615385e-02 3.84615385e-02 3.84615385e-02\n",
            "  3.84615385e-02 3.84615385e-02 3.84615385e-02 3.84615385e-02\n",
            "  3.84615385e-02 3.84615385e-02]\n",
            " [1.65372448e-01 2.87604257e-04 2.87604257e-04 1.66810469e-02\n",
            "  1.99309750e-01 2.87604257e-04 1.00086281e-01 2.87604257e-04\n",
            "  5.00431406e-02 2.87604257e-04 2.87604257e-04 6.61489790e-02\n",
            "  2.87604257e-04 2.87604257e-04 8.34052344e-02 2.87604257e-04\n",
            "  2.87604257e-04 2.87604257e-04 1.15329307e-01 2.87604257e-04\n",
            "  1.48979005e-01 1.69686511e-02 2.87604257e-04 2.87604257e-04\n",
            "  3.33620938e-02 2.87604257e-04]\n",
            " [1.77777778e-01 3.00653595e-02 6.53594771e-04 6.53594771e-04\n",
            "  1.79084967e-01 6.53594771e-04 6.53594771e-04 6.53594771e-04\n",
            "  3.07189542e-02 6.53594771e-04 6.53594771e-04 6.53594771e-04\n",
            "  3.07189542e-02 6.53594771e-04 2.08496732e-01 6.01307190e-02\n",
            "  6.53594771e-04 6.53594771e-04 2.11111111e-01 6.53594771e-04\n",
            "  6.07843137e-02 6.53594771e-04 6.53594771e-04 6.53594771e-04\n",
            "  6.53594771e-04 6.53594771e-04]\n",
            " [3.76800412e-02 1.28600823e-04 3.72942387e-02 1.95987654e-01\n",
            "  2.51286008e-01 1.28600823e-04 1.49048354e-01 1.28600823e-04\n",
            "  2.79063786e-02 1.28600823e-04 1.28600823e-04 9.51646091e-03\n",
            "  9.51646091e-03 1.28600823e-04 9.38786008e-03 1.28600823e-04\n",
            "  1.28600823e-04 1.28600823e-04 1.30272634e-01 1.12268519e-01\n",
            "  1.28600823e-04 2.80349794e-02 1.28600823e-04 1.28600823e-04\n",
            "  1.28600823e-04 1.28600823e-04]\n",
            " [6.95223144e-03 2.75099051e-02 6.95223144e-03 3.41631158e-02\n",
            "  7.47551768e-05 1.30074008e-01 6.95223144e-03 7.47551768e-05\n",
            "  1.38297077e-02 7.47551768e-05 7.47551768e-05 7.52784630e-02\n",
            "  8.88091500e-02 2.80481423e-01 6.87747627e-03 7.50541975e-02\n",
            "  7.47551768e-05 1.50482171e-01 3.43126261e-02 6.87747627e-03\n",
            "  3.41631158e-02 1.37549525e-02 6.87747627e-03 7.47551768e-05\n",
            "  7.47551768e-05 7.47551768e-05]\n",
            " [9.59119497e-02 3.93081761e-04 3.93081761e-04 3.93081761e-04\n",
            "  7.66509434e-02 3.93081761e-04 3.93081761e-04 3.93081761e-04\n",
            "  3.93081761e-04 3.93081761e-04 3.93081761e-04 5.77830189e-02\n",
            "  3.93081761e-04 3.93081761e-04 1.71383648e-01 1.92610063e-02\n",
            "  3.93081761e-04 3.62028302e-01 3.93081761e-04 9.59119497e-02\n",
            "  1.13993711e-01 3.93081761e-04 3.93081761e-04 3.93081761e-04\n",
            "  3.93081761e-04 3.93081761e-04]\n",
            " [1.85185185e-02 1.85185185e-02 1.85185185e-02 1.85185185e-02\n",
            "  1.85185185e-02 1.85185185e-02 1.85185185e-02 1.85185185e-02\n",
            "  1.85185185e-02 1.85185185e-02 1.85185185e-02 1.85185185e-02\n",
            "  1.85185185e-02 1.85185185e-02 1.85185185e-02 1.85185185e-02\n",
            "  1.85185185e-02 1.85185185e-02 1.85185185e-02 1.85185185e-02\n",
            "  5.37037037e-01 1.85185185e-02 1.85185185e-02 1.85185185e-02\n",
            "  1.85185185e-02 1.85185185e-02]\n",
            " [1.49687337e-01 1.30276186e-04 5.02866076e-02 1.01615425e-02\n",
            "  3.08624283e-01 1.01615425e-02 2.99635227e-02 1.30276186e-04\n",
            "  1.59718603e-01 1.30276186e-04 1.30276186e-04 1.30276186e-04\n",
            "  1.01615425e-02 1.30276186e-04 1.69489317e-01 1.30276186e-04\n",
            "  1.30276186e-04 2.98332465e-02 1.00312663e-02 2.99635227e-02\n",
            "  1.30276186e-04 2.01928088e-02 1.30276186e-04 1.30276186e-04\n",
            "  1.01615425e-02 1.30276186e-04]\n",
            " [1.37280137e-02 2.14500215e-04 6.77820678e-02 2.14500215e-04\n",
            "  2.19433719e-01 2.14500215e-04 2.14500215e-04 1.37280137e-02\n",
            "  1.09395109e-01 2.14500215e-04 2.14500215e-04 2.14500215e-04\n",
            "  2.14500215e-04 2.14500215e-04 2.17503218e-01 8.19390819e-02\n",
            "  2.14500215e-04 2.14500215e-04 1.08751609e-01 1.23123123e-01\n",
            "  4.11840412e-02 2.14500215e-04 2.14500215e-04 2.14500215e-04\n",
            "  2.14500215e-04 2.14500215e-04]\n",
            " [2.65235457e-02 6.92520776e-05 6.92520776e-05 6.92520776e-05\n",
            "  1.32271468e-01 6.92520776e-05 6.92520776e-05 2.97506925e-01\n",
            "  2.77770083e-01 6.92520776e-05 6.92520776e-05 6.92520776e-05\n",
            "  6.92520776e-05 3.29639889e-02 9.93767313e-02 6.92520776e-05\n",
            "  6.92520776e-05 1.33656510e-02 1.99445983e-02 5.28393352e-02\n",
            "  2.65235457e-02 6.92520776e-05 6.92520776e-05 6.92520776e-05\n",
            "  1.98753463e-02 6.92520776e-05]\n",
            " [2.66559615e-01 4.01445203e-04 1.14010438e-01 4.01445203e-04\n",
            "  4.01445203e-04 4.01445203e-04 1.92693697e-02 4.01445203e-04\n",
            "  4.01445203e-04 4.01445203e-04 4.01445203e-04 1.52549177e-01\n",
            "  4.01445203e-04 1.92693697e-02 4.01445203e-04 4.01445203e-04\n",
            "  4.01445203e-04 9.67482939e-02 1.33279807e-01 1.91087916e-01\n",
            "  4.01445203e-04 4.01445203e-04 4.01445203e-04 4.01445203e-04\n",
            "  4.01445203e-04 4.01445203e-04]\n",
            " [7.43902439e-02 6.09756098e-04 6.09756098e-04 6.09756098e-04\n",
            "  3.19512195e-01 6.09756098e-04 6.09756098e-04 6.09756098e-04\n",
            "  5.67073171e-01 6.09756098e-04 6.09756098e-04 6.09756098e-04\n",
            "  6.09756098e-04 6.09756098e-04 2.56097561e-02 6.09756098e-04\n",
            "  6.09756098e-04 6.09756098e-04 6.09756098e-04 6.09756098e-04\n",
            "  6.09756098e-04 6.09756098e-04 6.09756098e-04 6.09756098e-04\n",
            "  6.09756098e-04 6.09756098e-04]\n",
            " [2.56410256e-03 2.56410256e-03 2.56410256e-03 2.56410256e-03\n",
            "  2.56410256e-03 2.56410256e-03 2.56410256e-03 4.69230769e-01\n",
            "  3.12820513e-01 2.56410256e-03 2.56410256e-03 2.56410256e-03\n",
            "  2.56410256e-03 2.56410256e-03 8.20512821e-02 2.56410256e-03\n",
            "  2.56410256e-03 2.56410256e-03 7.94871795e-02 2.56410256e-03\n",
            "  2.56410256e-03 2.56410256e-03 2.56410256e-03 2.56410256e-03\n",
            "  2.56410256e-03 2.56410256e-03]\n",
            " [8.92857143e-03 8.92857143e-03 8.92857143e-03 8.92857143e-03\n",
            "  8.92857143e-03 8.92857143e-03 8.92857143e-03 2.58928571e-01\n",
            "  8.92857143e-03 8.92857143e-03 8.92857143e-03 8.92857143e-03\n",
            "  8.92857143e-03 8.92857143e-03 8.92857143e-03 2.67857143e-01\n",
            "  8.92857143e-03 8.92857143e-03 8.92857143e-03 2.67857143e-01\n",
            "  8.92857143e-03 8.92857143e-03 8.92857143e-03 8.92857143e-03\n",
            "  8.92857143e-03 8.92857143e-03]\n",
            " [3.84615385e-02 3.84615385e-02 3.84615385e-02 3.84615385e-02\n",
            "  3.84615385e-02 3.84615385e-02 3.84615385e-02 3.84615385e-02\n",
            "  3.84615385e-02 3.84615385e-02 3.84615385e-02 3.84615385e-02\n",
            "  3.84615385e-02 3.84615385e-02 3.84615385e-02 3.84615385e-02\n",
            "  3.84615385e-02 3.84615385e-02 3.84615385e-02 3.84615385e-02\n",
            "  3.84615385e-02 3.84615385e-02 3.84615385e-02 3.84615385e-02\n",
            "  3.84615385e-02 3.84615385e-02]\n",
            " [3.58024691e-01 1.23456790e-02 1.23456790e-02 1.23456790e-02\n",
            "  3.45679012e-01 1.23456790e-02 1.23456790e-02 1.23456790e-02\n",
            "  1.23456790e-02 1.23456790e-02 1.23456790e-02 1.23456790e-02\n",
            "  1.23456790e-02 1.23456790e-02 1.23456790e-02 1.23456790e-02\n",
            "  1.23456790e-02 1.23456790e-02 1.23456790e-02 1.23456790e-02\n",
            "  1.23456790e-02 1.23456790e-02 1.23456790e-02 1.23456790e-02\n",
            "  1.23456790e-02 1.23456790e-02]]\n"
          ]
        }
      ]
    },
    {
      "cell_type": "code",
      "source": [
        "originalMessage=\"The population of individuals are maintained within search space. Each individual represents a solution in search space for given problem. Each individual is coded as a finite length vector (analogous to chromosome) of components. These variable components are analogous to Genes. Thus a chromosome (individual) is composed of several genes variable components. \""
      ],
      "metadata": {
        "id": "-YC3JJfn4nr_"
      },
      "execution_count": null,
      "outputs": []
    },
    {
      "cell_type": "code",
      "source": [
        "def encode(msg):\n",
        "    msg = msg.lower()\n",
        "    msg = regex.sub(' ', msg) #Replace non alpha chars with \" \"\n",
        "\n",
        "  # make the encoded message\n",
        "    codedMsg = []\n",
        "    for char in msg:\n",
        "        codedChar = char # could just be a space\n",
        "        if char in ActualMapping:\n",
        "            codedChar = ActualMapping[char]\n",
        "        codedMsg.append(codedChar)\n",
        "\n",
        "    return ''.join(codedMsg)\n",
        "\n",
        "\n",
        "encoded = encode(originalMessage)\n"
      ],
      "metadata": {
        "id": "aFf4PzAc5EaQ"
      },
      "execution_count": 50,
      "outputs": []
    },
    {
      "cell_type": "code",
      "source": [
        "encoded"
      ],
      "metadata": {
        "colab": {
          "base_uri": "https://localhost:8080/",
          "height": 54
        },
        "id": "-NxiMH-g5np6",
        "outputId": "2e7bd979-6fb9-41db-d95f-8b58cdc5c75d"
      },
      "execution_count": 51,
      "outputs": [
        {
          "output_type": "execute_result",
          "data": {
            "text/plain": [
              "'aio nzncmdavzg zb vghvuvhcdmy dlo jdvgadvgoh pvaivg yodlqi yndqo  odqi vghvuvhcdm lonloyogay d yzmcavzg vg yodlqi yndqo bzl kvuog nlzxmoj  odqi vghvuvhcdm vy qzhoh dy d bvgvao mogkai uoqazl  dgdmzkzcy az qilzjzyzjo  zb qzjnzgogay  aioyo udlvdxmo qzjnzgogay dlo dgdmzkzcy az kogoy  aicy d qilzjzyzjo  vghvuvhcdm  vy qzjnzyoh zb youoldm kogoy udlvdxmo qzjnzgogay  '"
            ],
            "application/vnd.google.colaboratory.intrinsic+json": {
              "type": "string"
            }
          },
          "metadata": {},
          "execution_count": 51
        }
      ]
    },
    {
      "cell_type": "code",
      "source": [
        "def decode(msg, wordMap):\n",
        "    decodedMsg = []\n",
        "    for char in msg:\n",
        "        decodedChar = char # could just be a space\n",
        "        if char in wordMap:\n",
        "            decoded_ch = wordMap[char]\n",
        "        decodedMsg.append(decodedChar)\n",
        "\n",
        "    return ''.join(decodedMsg)"
      ],
      "metadata": {
        "id": "z75TZlLo5qjQ"
      },
      "execution_count": 52,
      "outputs": []
    },
    {
      "cell_type": "markdown",
      "source": [
        "**Genetic Algorithm Implementation**"
      ],
      "metadata": {
        "id": "5jUiQ1J99xuk"
      }
    },
    {
      "cell_type": "code",
      "source": [
        "class GeneticAlgorithm:\n",
        "    def __init__():\n",
        "        pass\n",
        "\n",
        "    @staticmethod\n",
        "    def randomInitialDNAPool():\n",
        "        dnaPool = []\n",
        "        for _ in range(20):\n",
        "            dna = list(string.ascii_lowercase)\n",
        "            random.shuffle(dna)\n",
        "            dnaPool.append(dna)\n",
        "        return dnaPool\n",
        "\n",
        "    @staticmethod\n",
        "    def evolveOffspring(dnaPool, n_children):\n",
        "        # make n_children per offspring\n",
        "        offspring = []\n",
        "\n",
        "        for dna in dnaPool:\n",
        "            for _ in range(n_children):\n",
        "                copy = dna.copy()\n",
        "                j = np.random.randint(len(copy))\n",
        "                k = np.random.randint(len(copy))\n",
        "\n",
        "                # switch\n",
        "                tmp = copy[j]\n",
        "                copy[j] = copy[k]\n",
        "                copy[k] = tmp\n",
        "                offspring.append(copy)\n",
        "\n",
        "        return offspring + dnaPool"
      ],
      "metadata": {
        "id": "gpiOhuJc__2j"
      },
      "execution_count": 53,
      "outputs": []
    },
    {
      "cell_type": "code",
      "source": [
        "dnaPool=GeneticAlgorithm.randomInitialDNAPool()"
      ],
      "metadata": {
        "id": "n0o-ZEmwOQqn"
      },
      "execution_count": 54,
      "outputs": []
    },
    {
      "cell_type": "code",
      "source": [
        "endoded=encode(originalMessage)"
      ],
      "metadata": {
        "id": "AVDTljEbXGSu"
      },
      "execution_count": 57,
      "outputs": []
    },
    {
      "cell_type": "code",
      "source": [
        "iterations = 1000\n",
        "bestScore = float('-inf')\n",
        "bestDna = None\n",
        "bestMap = None\n",
        "scores = np.zeros(iterations)\n",
        "offsprings=3\n",
        "\n",
        "for i in range(iterations):\n",
        "    if i > 0:\n",
        "        # get offspring from the current dna pool\n",
        "        dna_pool = GeneticAlgorithm.evolveOffspring(dnaPool, offsprings)\n",
        "\n",
        "    # calculate score for each dna\n",
        "    DnaToScore = {}\n",
        "    for dna in dnaPool:\n",
        "        # populate map\n",
        "        CurrentMap = {}\n",
        "        for k, v in zip(letters1, dna):\n",
        "            CurrentMap[k] = v\n",
        "\n",
        "        decoded = decode(encoded, CurrentMap)\n",
        "        score = getSequenceProb(decoded)\n",
        "        print(score)\n",
        "        DnaToScore[''.join(dna)] = score\n",
        "\n",
        "        if score > bestScore:\n",
        "            bestDna = dna\n",
        "            bestMap = CurrentMap\n",
        "            bestScore = score\n",
        "\n",
        "    # average score for this generation\n",
        "    scores[i] = np.mean(list(DnaToScore.values()))\n",
        "\n",
        "    # Elitism - Select top 5\n",
        "    sorted_dna = sorted(DnaToScore.items(), key=lambda x: x[1], reverse=True)\n",
        "    dnaPool = [list(k) for k, v in sorted_dna[:5]]\n",
        "\n",
        "    if i % 200 == 0:\n",
        "        print(\"iter:\", i, \"score:\", scores[i], \"best so far:\", bestScore)"
      ],
      "metadata": {
        "id": "5BNmIV4Q-bsX"
      },
      "execution_count": null,
      "outputs": []
    },
    {
      "cell_type": "code",
      "source": [
        "print(bestMap)"
      ],
      "metadata": {
        "colab": {
          "base_uri": "https://localhost:8080/"
        },
        "id": "P5nJEMxSUh4g",
        "outputId": "0057ba63-6cce-4404-f227-2ccffd43e504"
      },
      "execution_count": 59,
      "outputs": [
        {
          "output_type": "stream",
          "name": "stdout",
          "text": [
            "{'a': 'r', 'b': 'k', 'c': 'h', 'd': 'c', 'e': 'w', 'f': 't', 'g': 'm', 'h': 'x', 'i': 'f', 'j': 'n', 'k': 'z', 'l': 'e', 'm': 'l', 'n': 'i', 'o': 'v', 'p': 'o', 'q': 'g', 'r': 'd', 's': 's', 't': 'j', 'u': 'p', 'v': 'q', 'w': 'a', 'x': 'b', 'y': 'u', 'z': 'y'}\n"
          ]
        }
      ]
    },
    {
      "cell_type": "code",
      "source": [
        "decode(originalMessage, bestMap)"
      ],
      "metadata": {
        "colab": {
          "base_uri": "https://localhost:8080/",
          "height": 54
        },
        "id": "Fu8qNZFbU_rb",
        "outputId": "1f4eb3fa-ca27-4a90-9331-94908766ef3c"
      },
      "execution_count": 60,
      "outputs": [
        {
          "output_type": "execute_result",
          "data": {
            "text/plain": [
              "'The population of individuals are maintained within search space. Each individual represents a solution in search space for given problem. Each individual is coded as a finite length vector (analogous to chromosome) of components. These variable components are analogous to Genes. Thus a chromosome (individual) is composed of several genes variable components. '"
            ],
            "application/vnd.google.colaboratory.intrinsic+json": {
              "type": "string"
            }
          },
          "metadata": {},
          "execution_count": 60
        }
      ]
    },
    {
      "cell_type": "code",
      "source": [],
      "metadata": {
        "id": "Mjnz_u4IXLM9"
      },
      "execution_count": null,
      "outputs": []
    }
  ]
}